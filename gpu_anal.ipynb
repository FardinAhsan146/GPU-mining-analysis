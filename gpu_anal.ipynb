{
 "cells": [
  {
   "cell_type": "code",
   "execution_count": 1,
   "metadata": {
    "scrolled": true
   },
   "outputs": [
    {
     "data": {
      "image/png": "[encoded data removed]",
      "text/plain": [
       "<Figure size 720x360 with 1 Axes>"
      ]
     },
     "metadata": {
      "needs_background": "light"
     },
     "output_type": "display_data"
    }
   ],
   "source": [
    "from matplotlib import pyplot as plt\n",
    "import numpy as np \n",
    "import pandas as pd\n",
    "import typing\n",
    "%matplotlib inline\n",
    "\n",
    "\"\"\"\n",
    "If you want this notebook to be accurate, find the current pricecs of the GPU's \n",
    "and the current profittability rates. And update/add the current variables.\n",
    "Values are valid for 2/26/2021, change daily manually. ETH is volatile so you should.\n",
    "\"\"\"\n",
    "\n",
    "#AED/USD conversion, use if you want\n",
    "usd = lambda x: x/3.68\n",
    "aed = lambda x: x*3.68\n",
    "\n",
    "\n",
    "#GPU class\n",
    "class GPU:\n",
    "    def __init__(self, name: str,cost: float,daily_profit: float,fixed_cost: float,n: int,days: int,investment: bool):\n",
    "        self.name = name\n",
    "        self.cost = cost\n",
    "        self.daily_profit = daily_profit\n",
    "        self.fixed_cost = fixed_cost\n",
    "        self.n = n\n",
    "        self.days = days\n",
    "        self.investment = investment\n",
    "\n",
    "    def cashplot(self):\n",
    "        if self.n != 1 or self.n != 0:\n",
    "            self.cost = (self.cost*self.n)-(self.fixed_cost*(self.n-1))\n",
    "            self.daily_profit = self.daily_profit*self.n\n",
    "\n",
    "\n",
    "        cashsum_gpu = 0\n",
    "        gpu_profit = [self.daily_profit for i in range(1,self.days)]\n",
    "        gpu_cash = np.append([self.cost+self.daily_profit],gpu_profit) if self.investment \\\n",
    "        else np.append([-self.cost+self.daily_profit],gpu_profit)\n",
    "\n",
    "        summed_list = []\n",
    "        for v in gpu_cash:\n",
    "            cashsum_gpu += v\n",
    "            summed_list.append(cashsum_gpu)\n",
    "\n",
    "        return summed_list\n",
    "    \n",
    "    def breakeven(self):\n",
    "        if self.investment:\n",
    "            return 0\n",
    "        return self.cost//self.daily_profit\n",
    "        \n",
    "\n",
    "    def profit(self):\n",
    "        if self.investment:\n",
    "            return self.cashplot()[-1] - self.cost\n",
    "        return self.cashplot()[-1]\n",
    "    \n",
    "    def plot(self):\n",
    "        interval = range(1,self.days+1)\n",
    "        plt.rcParams['figure.figsize'] = [10, 5] \n",
    "        plt.plot(interval, self.cashplot(), label=self.name)\n",
    "        plt.ylabel('$')\n",
    "        plt.xlabel('days')\n",
    "        plt.legend()\n",
    "        plt.grid(True)\n",
    "        \n",
    "        \n",
    "\n",
    "def daily(initial,percentage,n): #For passing investment to GPU class, returns daily return over n days.\n",
    "    dec = percentage/100\n",
    "    final = initial*(1+dec)\n",
    "    return (final - initial)/n\n",
    "\n",
    "#GPU list, for investment pass same days in GPU class and daily function.\n",
    "Inv_list = [\n",
    "GPU('GPU Mining - RX 580',usd(1350),2.45,0,1,365,False),\n",
    "GPU('Buy Bitcoin',usd(1350),daily(usd(1350),413,365),0,1,365,True),\n",
    "GPU('Buy Ethereum',usd(1350),daily(usd(1350),2000,365),0,1,365,True),\n",
    "GPU('Buy fractional S&P 500',usd(1350),daily(usd(1350),7,365),0,1,365,True)\n",
    "]\n",
    "\n",
    "\n",
    "#plotting\n",
    "for v in Inv_list:\n",
    "    v.plot()\n"
   ]
  },
  {
   "cell_type": "code",
   "execution_count": 2,
   "metadata": {},
   "outputs": [],
   "source": [
    "#Df\n",
    "\n",
    "gpu_list = [v.name for v in Inv_list]\n",
    "daily_profit_list = [v.daily_profit for v in Inv_list]\n",
    "cost_list = [v.cost for v in Inv_list]\n",
    "annual_profit_list = [v.profit() for v in Inv_list]\n",
    "value_list = [v.profit()/v.cost for v in Inv_list]\n",
    "days_to_break_even = [v.breakeven() for v in Inv_list]\n",
    "\n",
    "d = {'investment_choice': gpu_list,\n",
    "     'daily_profit': daily_profit_list,\n",
    "     'cost': cost_list,\n",
    "    'profit' : annual_profit_list,\n",
    "    'value': value_list,\n",
    "    'days_to_breakeven': days_to_break_even}\n",
    "     \n",
    "\n",
    "df = pd.DataFrame(data=d)"
   ]
  },
  {
   "cell_type": "code",
   "execution_count": 3,
   "metadata": {},
   "outputs": [
    {
     "data": {
      "text/html": [
       "<div>\n",
       "<style scoped>\n",
       "    .dataframe tbody tr th:only-of-type {\n",
       "        vertical-align: middle;\n",
       "    }\n",
       "\n",
       "    .dataframe tbody tr th {\n",
       "        vertical-align: top;\n",
       "    }\n",
       "\n",
       "    .dataframe thead th {\n",
       "        text-align: right;\n",
       "    }\n",
       "</style>\n",
       "<table border=\"1\" class=\"dataframe\">\n",
       "  <thead>\n",
       "    <tr style=\"text-align: right;\">\n",
       "      <th></th>\n",
       "      <th>investment_choice</th>\n",
       "      <th>daily_profit</th>\n",
       "      <th>cost</th>\n",
       "      <th>profit</th>\n",
       "      <th>value</th>\n",
       "      <th>days_to_breakeven</th>\n",
       "    </tr>\n",
       "  </thead>\n",
       "  <tbody>\n",
       "    <tr>\n",
       "      <th>0</th>\n",
       "      <td>GPU Mining - RX 580</td>\n",
       "      <td>2.450000</td>\n",
       "      <td>366.847826</td>\n",
       "      <td>527.402174</td>\n",
       "      <td>1.437659</td>\n",
       "      <td>149.0</td>\n",
       "    </tr>\n",
       "    <tr>\n",
       "      <th>1</th>\n",
       "      <td>Buy Bitcoin</td>\n",
       "      <td>4.150908</td>\n",
       "      <td>366.847826</td>\n",
       "      <td>1515.081522</td>\n",
       "      <td>4.130000</td>\n",
       "      <td>0.0</td>\n",
       "    </tr>\n",
       "    <tr>\n",
       "      <th>2</th>\n",
       "      <td>Buy Ethereum</td>\n",
       "      <td>20.101251</td>\n",
       "      <td>366.847826</td>\n",
       "      <td>7336.956522</td>\n",
       "      <td>20.000000</td>\n",
       "      <td>0.0</td>\n",
       "    </tr>\n",
       "    <tr>\n",
       "      <th>3</th>\n",
       "      <td>Buy fractional S&amp;P 500</td>\n",
       "      <td>0.070354</td>\n",
       "      <td>366.847826</td>\n",
       "      <td>25.679348</td>\n",
       "      <td>0.070000</td>\n",
       "      <td>0.0</td>\n",
       "    </tr>\n",
       "  </tbody>\n",
       "</table>\n",
       "</div>"
      ],
      "text/plain": [
       "        investment_choice  daily_profit        cost       profit      value  \\\n",
       "0     GPU Mining - RX 580      2.450000  366.847826   527.402174   1.437659   \n",
       "1             Buy Bitcoin      4.150908  366.847826  1515.081522   4.130000   \n",
       "2            Buy Ethereum     20.101251  366.847826  7336.956522  20.000000   \n",
       "3  Buy fractional S&P 500      0.070354  366.847826    25.679348   0.070000   \n",
       "\n",
       "   days_to_breakeven  \n",
       "0              149.0  \n",
       "1                0.0  \n",
       "2                0.0  \n",
       "3                0.0  "
      ]
     },
     "execution_count": 3,
     "metadata": {},
     "output_type": "execute_result"
    }
   ],
   "source": [
    "df"
   ]
  },
  {
   "cell_type": "code",
   "execution_count": 5,
   "metadata": {},
   "outputs": [
    {
     "name": "stdout",
     "output_type": "stream",
     "text": [
      "7534.316770186301\n"
     ]
    }
   ],
   "source": [
    "def investment(gpu_annual_profit,rateofreturn):\n",
    "    \"\"\"\n",
    "    Will return the amount of usd you would have needed to invest to get equivalent profits\n",
    "    Pass profit(summedlist_gpuname) as gpu_annual_profit\n",
    "    And pass the real rate of return on your investment in %\n",
    "    \"\"\"\n",
    "    return (gpu_annual_profit)/(rateofreturn/100)\n",
    "\n",
    "print(investment(Inv_list[0].profit(),7)) #As you can see a 580 will return equivalent to ~7500 USD in ETF's."
   ]
  },
  {
   "cell_type": "code",
   "execution_count": null,
   "metadata": {},
   "outputs": [],
   "source": []
  }
 ],
 "metadata": {
  "kernelspec": {
   "display_name": "Python 3",
   "language": "python",
   "name": "python3"
  },
  "language_info": {
   "codemirror_mode": {
    "name": "ipython",
    "version": 3
   },
   "file_extension": ".py",
   "mimetype": "text/x-python",
   "name": "python",
   "nbconvert_exporter": "python",
   "pygments_lexer": "ipython3",
   "version": "3.8.5"
  }
 },
 "nbformat": 4,
 "nbformat_minor": 4
}
